{
 "cells": [
  {
   "cell_type": "code",
   "execution_count": 2,
   "metadata": {},
   "outputs": [
    {
     "name": "stdout",
     "output_type": "stream",
     "text": [
      "Translating from Ngilimisa kanjani i-debit order? to How do i stop a debit order?:\n",
      "Translated text: Model for Ngilimisa kanjani i-debit order? to How do i stop a debit order? is not available.\n",
      "Translating from Ngiyivula kanjani i-akhawunti yasebhange? to How do I open a  bank account?:\n",
      "Translated text: Model for Ngiyivula kanjani i-akhawunti yasebhange? to How do I open a  bank account? is not available.\n",
      "Translating from Yimaphi amadokhumenti adingekayo ukuze uvule i-akhawunti? to What documents are required to open an account?:\n",
      "Translated text: Model for Yimaphi amadokhumenti adingekayo ukuze uvule i-akhawunti? to What documents are required to open an account? is not available.\n",
      "Translating from Ngingayibuyekeza kanjani imininingwane yami yomuntu siqu (isb., ikheli, inombolo yocingo)? to How can I update my personal details (e.g., address, phone number)?:\n",
      "Translated text: Model for Ngingayibuyekeza kanjani imininingwane yami yomuntu siqu (isb., ikheli, inombolo yocingo)? to How can I update my personal details (e.g., address, phone number)? is not available.\n",
      "Translating from Athini amahora okubhanga emagatsheni akwa-ABSA? to What are the banking hours for ABSA branches?:\n",
      "Translated text: Model for Athini amahora okubhanga emagatsheni akwa-ABSA? to What are the banking hours for ABSA branches? is not available.\n",
      "Translating from Ngiyivala kanjani i-akhawunti yami yasebhange? to How do I close my bank account?:\n",
      "Translated text: Model for Ngiyivala kanjani i-akhawunti yami yasebhange? to How do I close my bank account? is not available.\n",
      "Translating from Ngibhalisa kanjani i-ABSA Online Banking? to How do I register for ABSA Online Banking?:\n",
      "Translated text: Model for Ngibhalisa kanjani i-ABSA Online Banking? to How do I register for ABSA Online Banking? is not available.\n",
      "Translating from Yini okufanele ngiyenze uma ngikhohlwa iphasiwedi yami yasebhange ku-inthanethi? to What should I do if I forget my online banking password?:\n",
      "Translated text: Model for Yini okufanele ngiyenze uma ngikhohlwa iphasiwedi yami yasebhange ku-inthanethi? to What should I do if I forget my online banking password? is not available.\n",
      "Translating from Ngingayibheka kanjani ibhalansi ye-akhawunti yami ku-inthanethi? to How can I check my account balance online?:\n",
      "Translated text: Model for Ngingayibheka kanjani ibhalansi ye-akhawunti yami ku-inthanethi? to How can I check my account balance online? is not available.\n",
      "Translating from Ngizenza kanjani izinkokhelo noma ukudlulisa ngohlelo lokusebenza lwe-ABSA? to How do I make payments or transfers via the ABSA app?:\n",
      "Translated text: Model for Ngizenza kanjani izinkokhelo noma ukudlulisa ngohlelo lokusebenza lwe-ABSA? to How do I make payments or transfers via the ABSA app? is not available.\n",
      "Translating from Yiziphi izinyathelo zokuphepha ezikhona mayelana nokwenziwe nge-inthanethi? to What security measures are in place for online transactions?:\n",
      "Translated text: Model for Yiziphi izinyathelo zokuphepha ezikhona mayelana nokwenziwe nge-inthanethi? to What security measures are in place for online transactions? is not available.\n",
      "Translating from Ngisifaka kanjani isicelo sekhadi lesikweletu/ledebhithi? to How do I apply for a credit/debit card?:\n",
      "Translated text: Model for Ngisifaka kanjani isicelo sekhadi lesikweletu/ledebhithi? to How do I apply for a credit/debit card? is not available.\n",
      "Translating from Yini okufanele ngiyenze uma ikhadi lami lilahlekile noma lebiwe? to What should I do if my card is lost or stolen?:\n",
      "Translated text: Model for Yini okufanele ngiyenze uma ikhadi lami lilahlekile noma lebiwe? to What should I do if my card is lost or stolen? is not available.\n",
      "Translating from Ngilenza lisebenze kanjani ikhadi lami elisha le-ABSA? to How do I activate my new ABSA card?:\n",
      "Translated text: Model for Ngilenza lisebenze kanjani ikhadi lami elisha le-ABSA? to How do I activate my new ABSA card? is not available.\n",
      "Translating from Ngingakubuka kanjani ukuthengiselana kwekhadi lami? to How can I view my card transactions?:\n",
      "Translated text: Model for Ngingakubuka kanjani ukuthengiselana kwekhadi lami? to How can I view my card transactions? is not available.\n",
      "Translating from Yiziphi izimali ezihambisana namakhadi esikweletu/edebhithi akwa-ABSA? to What are the fees associated with ABSA credit/debit cards?:\n",
      "Translated text: Model for Yiziphi izimali ezihambisana namakhadi esikweletu/edebhithi akwa-ABSA? to What are the fees associated with ABSA credit/debit cards? is not available.\n",
      "Translating from Yiziphi izinhlobo zezikweletu ezinikezwa yi-ABSA? to What types of loans does ABSA offer?:\n",
      "Translated text: Model for Yiziphi izinhlobo zezikweletu ezinikezwa yi-ABSA? to What types of loans does ABSA offer? is not available.\n",
      "Translating from Ngingasifaka kanjani isicelo semali mboleko yomuntu siqu? to How can I apply for a personal loan?:\n",
      "Translated text: Model for Ngingasifaka kanjani isicelo semali mboleko yomuntu siqu? to How can I apply for a personal loan? is not available.\n",
      "Translating from Ithini inqubo yokufaka isicelo semali mboleko yezindlu? to What is the process for home loan application?:\n",
      "Translated text: Model for Ithini inqubo yokufaka isicelo semali mboleko yezindlu? to What is the process for home loan application? is not available.\n",
      "Translating from Ngisibheka kanjani isimo sesicelo sami semalimboleko? to How do I check the status of my loan application?:\n",
      "Translated text: Model for Ngisibheka kanjani isimo sesicelo sami semalimboleko? to How do I check the status of my loan application? is not available.\n",
      "Translating from Athini amanani enzalo emalimboleko? to What are the interest rates for loans?:\n",
      "Translated text: Model for Athini amanani enzalo emalimboleko? to What are the interest rates for loans? is not available.\n",
      "Translating from Imaphi ama-akhawunti okonga atholakala kwa-ABSA? to What savings accounts are available at ABSA?:\n",
      "Translated text: Model for Imaphi ama-akhawunti okonga atholakala kwa-ABSA? to What savings accounts are available at ABSA? is not available.\n",
      "Translating from Ngingayivula kanjani i-akhawunti yediphozithi engashintshi? to How can I open a fixed deposit account?:\n",
      "Translated text: Model for Ngingayivula kanjani i-akhawunti yediphozithi engashintshi? to How can I open a fixed deposit account? is not available.\n",
      "Translating from Yiziphi izindlela zokutshala izimali ezihlinzekwa yi-ABSA? to What are the investment options offered by ABSA?:\n",
      "Translated text: Model for Yiziphi izindlela zokutshala izimali ezihlinzekwa yi-ABSA? to What are the investment options offered by ABSA? is not available.\n"
     ]
    }
   ],
   "source": [
    "import pandas as pd\n",
    "\n",
    "# Load CSV file\n",
    "df = pd.read_csv('/Users/damacm1143/Downloads/weed.csv')\n",
    "\n",
    "# Extract language pairs (assuming the columns are 'Prompt' and 'Target ')\n",
    "languages = df[['zulu','english ']].values.tolist()\n",
    "\n",
    "# Example text to translate\n",
    "text_to_translate = \"Ngumaphi emahora ebhange emagatja?\"\n",
    "\n",
    "def load_model(source_lang, target_lang):\n",
    "    return None, None\n",
    "\n",
    "def translate_text(text, source_lang, target_lang):\n",
    "    tokenizer, model = load_model(source_lang, target_lang)\n",
    "    if tokenizer is None or model is None:\n",
    "        return f\"Model for {source_lang} to {target_lang} is not available.\"\n",
    "    \n",
    "    # Tokenize and generate translation\n",
    "    inputs = tokenizer(text, return_tensors='pt')\n",
    "    outputs = model.generate(**inputs)\n",
    "    translated_text = tokenizer.decode(outputs[0], skip_special_tokens=True)\n",
    "    \n",
    "    return translated_text\n",
    "\n",
    "# Process each language pair and translate the specific question\n",
    "for source_lang, target_lang in languages:\n",
    "    print(f\"Translating from {source_lang} to {target_lang}:\")\n",
    "    translated_text = translate_text(text_to_translate, source_lang, target_lang)\n",
    "    print(f\"Translated text: {translated_text}\")\n",
    "\n"
   ]
  },
  {
   "cell_type": "code",
   "execution_count": null,
   "metadata": {},
   "outputs": [],
   "source": []
  }
 ],
 "metadata": {
  "kernelspec": {
   "display_name": "base",
   "language": "python",
   "name": "python3"
  },
  "language_info": {
   "codemirror_mode": {
    "name": "ipython",
    "version": 3
   },
   "file_extension": ".py",
   "mimetype": "text/x-python",
   "name": "python",
   "nbconvert_exporter": "python",
   "pygments_lexer": "ipython3",
   "version": "3.11.7"
  }
 },
 "nbformat": 4,
 "nbformat_minor": 2
}
